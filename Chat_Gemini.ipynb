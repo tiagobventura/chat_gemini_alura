{
  "nbformat": 4,
  "nbformat_minor": 0,
  "metadata": {
    "colab": {
      "provenance": [],
      "authorship_tag": "ABX9TyOzG4XAj3nCAnuNJlUHSrhC",
      "include_colab_link": true
    },
    "kernelspec": {
      "name": "python3",
      "display_name": "Python 3"
    },
    "language_info": {
      "name": "python"
    }
  },
  "cells": [
    {
      "cell_type": "markdown",
      "metadata": {
        "id": "view-in-github",
        "colab_type": "text"
      },
      "source": [
        "<a href=\"https://colab.research.google.com/github/tiagobventura/chat_gemini_alura/blob/main/Chat_Gemini.ipynb\" target=\"_parent\"><img src=\"https://colab.research.google.com/assets/colab-badge.svg\" alt=\"Open In Colab\"/></a>"
      ]
    },
    {
      "cell_type": "markdown",
      "source": [
        "Instalando o SDK do google"
      ],
      "metadata": {
        "id": "vqMRPRWpPCj0"
      }
    },
    {
      "cell_type": "code",
      "execution_count": 1,
      "metadata": {
        "id": "uoDKJqs-LFN_"
      },
      "outputs": [],
      "source": [
        "!pip install -q -U google-generativeai"
      ]
    },
    {
      "cell_type": "code",
      "source": [
        "# Import the Python SDK\n",
        "import google.generativeai as genai\n",
        "from google.colab import userdata\n",
        "api_key = userdata.get('SECRET_KEY')\n",
        "genai.configure(api_key=api_key)\n",
        "\n",
        "genai.configure(api_key=GOOGLE_API_KEY)"
      ],
      "metadata": {
        "id": "PYned3rvNOMt"
      },
      "execution_count": 18,
      "outputs": []
    },
    {
      "cell_type": "code",
      "source": [
        "model = genai.GenerativeModel('gemini-pro')"
      ],
      "metadata": {
        "id": "a7C-Q1Z1N5hB"
      },
      "execution_count": 4,
      "outputs": []
    },
    {
      "cell_type": "code",
      "source": [
        "response = model.generate_content(\"Vamos aprender conteudo de java. Me dê sugestões\")\n",
        "print(response.text)"
      ],
      "metadata": {
        "colab": {
          "base_uri": "https://localhost:8080/",
          "height": 841
        },
        "id": "mVy6fyfZN_7o",
        "outputId": "d999efa2-c79b-4ad5-e52f-25fbf6ecfd78"
      },
      "execution_count": 6,
      "outputs": [
        {
          "output_type": "stream",
          "name": "stdout",
          "text": [
            "**Fundamentos**\n",
            "\n",
            "* Tipos de Dados Primitivos e seus Wrappers\n",
            "* Variáveis e Constantes\n",
            "* Operadores (Aritméticos, Lógicos, de Atribuição)\n",
            "* Estruturas de Controle (if-else, switch-case, loops)\n",
            "* Arrays e Listas\n",
            "\n",
            "**Orientação a Objetos**\n",
            "\n",
            "* Classes e Objetos\n",
            "* Construtores e Destrutores\n",
            "* Herança e Polimorfismo\n",
            "* Encapsulamento e Modificadores de Acesso\n",
            "\n",
            "**Coleções**\n",
            "\n",
            "* Listas (ArrayList, LinkedList)\n",
            "* Conjuntos (HashSet, TreeSet)\n",
            "* Mapas (HashMap, TreeMap)\n",
            "\n",
            "**Manipulação de Strings**\n",
            "\n",
            "* Trabalhando com Strings (concatenação, divisão, extração de substrings)\n",
            "* Expressões Regulares\n",
            "\n",
            "**Entrada e Saída de Dados**\n",
            "\n",
            "* Ler e escrever em arquivos\n",
            "* Manipular entrada e saída do console\n",
            "\n",
            "**Outros Conceitos Importantes**\n",
            "\n",
            "* Threads e Concorrência\n",
            "* Gerenciamento de Exceções\n",
            "* Lambda Expressions e Streams\n",
            "* Interfaces e Classes Abstratas\n",
            "* Padrões de Projeto\n",
            "\n",
            "**Recursos Recomendados**\n",
            "\n",
            "* Tutoriais do Java Oracle: https://docs.oracle.com/javase/tutorial/\n",
            "* Curso de Java do Codecademy: https://www.codecademy.com/learn/learn-java\n",
            "* Livro \"Head First Java\": https://www.amazon.com/Head-First-Java-Kathy-Sierra/dp/0596009208\n",
            "* Comunidade do Stack Overflow: https://stackoverflow.com/questions/tagged/java\n"
          ]
        }
      ]
    },
    {
      "cell_type": "markdown",
      "source": [
        "Listar os modelos disponíveis de IA."
      ],
      "metadata": {
        "id": "1yBK7AYWPjcG"
      }
    },
    {
      "cell_type": "markdown",
      "source": [],
      "metadata": {
        "id": "iegKxgE1QgBu"
      }
    },
    {
      "cell_type": "code",
      "source": [
        "for m in genai.list_models():\n",
        "  if 'generateContent' in m.supported_generation_methods:\n",
        "    print(m.name)"
      ],
      "metadata": {
        "colab": {
          "base_uri": "https://localhost:8080/",
          "height": 142
        },
        "id": "wHFKf6IbOX0C",
        "outputId": "2c45565b-b9f6-459f-f395-e85b75191f0f"
      },
      "execution_count": 7,
      "outputs": [
        {
          "output_type": "stream",
          "name": "stdout",
          "text": [
            "models/gemini-1.0-pro\n",
            "models/gemini-1.0-pro-001\n",
            "models/gemini-1.0-pro-latest\n",
            "models/gemini-1.0-pro-vision-latest\n",
            "models/gemini-1.5-pro-latest\n",
            "models/gemini-pro\n",
            "models/gemini-pro-vision\n"
          ]
        }
      ]
    },
    {
      "cell_type": "code",
      "source": [
        "generation_config = {\n",
        "    \"candidate_count\":1,\n",
        "    \"temperature\": 0.5\n",
        "}"
      ],
      "metadata": {
        "id": "yl_0MF2hRuTF"
      },
      "execution_count": 8,
      "outputs": []
    },
    {
      "cell_type": "markdown",
      "source": [
        "Configuração de segurança\n"
      ],
      "metadata": {
        "id": "PjYNylCvSeaU"
      }
    },
    {
      "cell_type": "code",
      "source": [
        "safety_settings = {\n",
        "    \"HARASSMENT\": \"BLOCK_NONE\",\n",
        "    \"HATE\": \"BLOCK_NONE\",\n",
        "    \"SEXUAL\": \"BLOCK_NONE\",\n",
        "    \"DANGEROUS\": \"BLOCK_NONE\",\n",
        "}"
      ],
      "metadata": {
        "id": "Hl5RUfFFSdYg"
      },
      "execution_count": 9,
      "outputs": []
    },
    {
      "cell_type": "markdown",
      "source": [
        "Inicializando o modelo."
      ],
      "metadata": {
        "id": "SSH9yy1yTsPO"
      }
    },
    {
      "cell_type": "code",
      "source": [
        "model = genai.GenerativeModel(model_name=\"gemini-1.0-pro\",\n",
        "                              generation_config=generation_config,\n",
        "                              safety_settings=safety_settings)"
      ],
      "metadata": {
        "id": "oeYjDfM0TrXJ"
      },
      "execution_count": 10,
      "outputs": []
    },
    {
      "cell_type": "markdown",
      "source": [],
      "metadata": {
        "id": "gkPmuHTeUhJ4"
      }
    },
    {
      "cell_type": "code",
      "source": [
        "response = model.generate_content(\"Vamos aprender conteudo de java. Me dê sugestões\")\n",
        "print(response.text)"
      ],
      "metadata": {
        "colab": {
          "base_uri": "https://localhost:8080/",
          "height": 910
        },
        "id": "UA2ksh1uUfto",
        "outputId": "11a10b66-f7ca-42a8-cfa5-485c8d7428b2"
      },
      "execution_count": 11,
      "outputs": [
        {
          "output_type": "stream",
          "name": "stdout",
          "text": [
            "**Conceitos Básicos**\n",
            "\n",
            "* Tipos de dados primitivos (int, double, boolean, etc.)\n",
            "* Variáveis e constantes\n",
            "* Operadores (aritméticos, lógicos, de atribuição)\n",
            "* Estruturas de controle (if-else, loops)\n",
            "* Arrays\n",
            "\n",
            "**Programação Orientada a Objetos**\n",
            "\n",
            "* Classes e objetos\n",
            "* Herança\n",
            "* Polimorfismo\n",
            "* Encapsulamento\n",
            "\n",
            "**Coleções**\n",
            "\n",
            "* Listas (ArrayList, LinkedList)\n",
            "* Conjuntos (HashSet, TreeSet)\n",
            "* Mapas (HashMap, TreeMap)\n",
            "\n",
            "**Entrada e Saída**\n",
            "\n",
            "* Leitura e escrita de arquivos\n",
            "* Entrada e saída do console\n",
            "\n",
            "**Processamento de Exceções**\n",
            "\n",
            "* Tipos de exceções\n",
            "* Blocos try-catch-finally\n",
            "\n",
            "**Programação Concorrente**\n",
            "\n",
            "* Threads\n",
            "* Sincronização\n",
            "* Concorrência\n",
            "\n",
            "**Bibliotecas Padrão**\n",
            "\n",
            "* Java Collections Framework\n",
            "* Java Input/Output Library\n",
            "* Java Exception Handling\n",
            "* Java Concurrency Utilities\n",
            "\n",
            "**Outros Tópicos**\n",
            "\n",
            "* Genéricos\n",
            "* Anotações\n",
            "* Reflexão\n",
            "* Programação Funcional\n"
          ]
        }
      ]
    },
    {
      "cell_type": "code",
      "source": [
        "chat = model.start_chat(history=[])"
      ],
      "metadata": {
        "id": "yw16Dpm2U-Zh"
      },
      "execution_count": 12,
      "outputs": []
    },
    {
      "cell_type": "code",
      "source": [
        "prompt = input(\"Esperando o prompt \")\n",
        "\n",
        "while prompt != \"fim\":\n",
        "  response = chat.send_message(prompt)\n",
        "  print(\"Resposta: \",response.text, \"\\n\")\n",
        "  prompt = input(\"Esperando o prompt\")"
      ],
      "metadata": {
        "colab": {
          "base_uri": "https://localhost:8080/",
          "height": 269
        },
        "id": "Es_kjUcfVeyq",
        "outputId": "bc53ffe7-c918-4ac5-9962-26d28a11a1cc"
      },
      "execution_count": 15,
      "outputs": [
        {
          "name": "stdout",
          "output_type": "stream",
          "text": [
            "Esperando o promptQual é a capital do japão?\n",
            "Resposta:  Tóquio \n",
            "\n",
            "Esperando o promptQual é comida típico do país?\n",
            "Resposta:  Sushi \n",
            "\n",
            "Esperando o promptE o esporte mais praticado?\n",
            "Resposta:  Sumô \n",
            "\n",
            "Esperando o promptMinha prima nasceu nessa cidade, qual é a nacionalidade dela?\n",
            "Resposta:  Japonesa \n",
            "\n",
            "Esperando o promptfim\n"
          ]
        }
      ]
    },
    {
      "cell_type": "code",
      "source": [
        "import textwrap\n",
        "from IPython.display import display\n",
        "from IPython.display import Markdown\n",
        "\n",
        "def to_markdown(text):\n",
        "  text = text.replace('*', ' *')\n",
        "  return Markdown(textwrap.indent(text, '> ', predicate=lambda _: True))\n",
        "\n",
        "#imprimindo histórico\n",
        "for message in chat.history:\n",
        "  display(to_markdown(f'**{message.role}**: {message.parts[0].text}'))\n",
        "  print('-------------------------------------------------')"
      ],
      "metadata": {
        "colab": {
          "base_uri": "https://localhost:8080/",
          "height": 523
        },
        "id": "d9bjA0tjXlvT",
        "outputId": "ee7657c2-f83a-4aa1-a53d-a99fd931c424"
      },
      "execution_count": 16,
      "outputs": [
        {
          "output_type": "display_data",
          "data": {
            "text/plain": [
              "<IPython.core.display.Markdown object>"
            ],
            "text/markdown": ">  * *user * *: Qual é a capital do japão?"
          },
          "metadata": {}
        },
        {
          "output_type": "stream",
          "name": "stdout",
          "text": [
            "-------------------------------------------------\n"
          ]
        },
        {
          "output_type": "display_data",
          "data": {
            "text/plain": [
              "<IPython.core.display.Markdown object>"
            ],
            "text/markdown": ">  * *model * *: Tóquio"
          },
          "metadata": {}
        },
        {
          "output_type": "stream",
          "name": "stdout",
          "text": [
            "-------------------------------------------------\n"
          ]
        },
        {
          "output_type": "display_data",
          "data": {
            "text/plain": [
              "<IPython.core.display.Markdown object>"
            ],
            "text/markdown": ">  * *user * *: Qual é comida típico do país?"
          },
          "metadata": {}
        },
        {
          "output_type": "stream",
          "name": "stdout",
          "text": [
            "-------------------------------------------------\n"
          ]
        },
        {
          "output_type": "display_data",
          "data": {
            "text/plain": [
              "<IPython.core.display.Markdown object>"
            ],
            "text/markdown": ">  * *model * *: Sushi"
          },
          "metadata": {}
        },
        {
          "output_type": "stream",
          "name": "stdout",
          "text": [
            "-------------------------------------------------\n"
          ]
        },
        {
          "output_type": "display_data",
          "data": {
            "text/plain": [
              "<IPython.core.display.Markdown object>"
            ],
            "text/markdown": ">  * *user * *: E o esporte mais praticado?"
          },
          "metadata": {}
        },
        {
          "output_type": "stream",
          "name": "stdout",
          "text": [
            "-------------------------------------------------\n"
          ]
        },
        {
          "output_type": "display_data",
          "data": {
            "text/plain": [
              "<IPython.core.display.Markdown object>"
            ],
            "text/markdown": ">  * *model * *: Sumô"
          },
          "metadata": {}
        },
        {
          "output_type": "stream",
          "name": "stdout",
          "text": [
            "-------------------------------------------------\n"
          ]
        },
        {
          "output_type": "display_data",
          "data": {
            "text/plain": [
              "<IPython.core.display.Markdown object>"
            ],
            "text/markdown": ">  * *user * *: Minha prima nasceu nessa cidade, qual é a nacionalidade dela?"
          },
          "metadata": {}
        },
        {
          "output_type": "stream",
          "name": "stdout",
          "text": [
            "-------------------------------------------------\n"
          ]
        },
        {
          "output_type": "display_data",
          "data": {
            "text/plain": [
              "<IPython.core.display.Markdown object>"
            ],
            "text/markdown": ">  * *model * *: Japonesa"
          },
          "metadata": {}
        },
        {
          "output_type": "stream",
          "name": "stdout",
          "text": [
            "-------------------------------------------------\n"
          ]
        }
      ]
    }
  ]
}